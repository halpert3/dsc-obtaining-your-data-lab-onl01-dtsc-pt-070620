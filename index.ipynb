{
 "cells": [
  {
   "cell_type": "markdown",
   "metadata": {},
   "source": [
    "# Obtaining Your Data - Lab"
   ]
  },
  {
   "cell_type": "markdown",
   "metadata": {},
   "source": [
    "## Introduction\n",
    "In this lab you'll practice your munging and transforming skills in order to load in your data to solve a regression problem."
   ]
  },
  {
   "cell_type": "markdown",
   "metadata": {},
   "source": [
    "## Objectives\n",
    "You will be able to:\n",
    "* Perform an ETL process with multiple tables and create a single dataset"
   ]
  },
  {
   "cell_type": "markdown",
   "metadata": {},
   "source": [
    "## Task Description\n",
    "\n",
    "You just got hired by Lego! Your first project is going to be to develop a pricing algorithm to help set a target price for new lego sets that are released to market. To do this, you're first going to need to start mining the company database in order to collect the information you need to develop a model.\n",
    "\n",
    "Start by investigating the database stored in lego.db and joining the tables into a unified dataset!\n",
    "\n",
    "> **Hint:** use this SQL query to preview the tables in an unknown database:\n",
    "```sql\n",
    "SELECT name FROM sqlite_master\n",
    "            WHERE type='table'\n",
    "            ORDER BY name;\n",
    "```"
   ]
  },
  {
   "cell_type": "code",
   "execution_count": 5,
   "metadata": {},
   "outputs": [],
   "source": [
    "# Your code here\n",
    "import sqlite3\n",
    "import pandas as pd\n"
   ]
  },
  {
   "cell_type": "code",
   "execution_count": 11,
   "metadata": {},
   "outputs": [],
   "source": [
    "conn = sqlite3.connect('lego.db')\n",
    "\n",
    "# Note: this 'lego.db' file seems complex and you can't inspect in directly. Most likely you should think of it like \n",
    "# an Excel file with several sheets."
   ]
  },
  {
   "cell_type": "code",
   "execution_count": 13,
   "metadata": {},
   "outputs": [
    {
     "data": {
      "text/plain": [
       "[('product_details',),\n",
       " ('product_info',),\n",
       " ('product_pricing',),\n",
       " ('product_reviews',)]"
      ]
     },
     "execution_count": 13,
     "metadata": {},
     "output_type": "execute_result"
    }
   ],
   "source": [
    "cur = conn.cursor()\n",
    "response = cur.execute(\"\"\"SELECT name FROM sqlite_master\n",
    "                        WHERE type='table'\n",
    "                        ORDER BY name;\"\"\").fetchall()\n",
    "response"
   ]
  },
  {
   "cell_type": "code",
   "execution_count": 30,
   "metadata": {},
   "outputs": [
    {
     "name": "stdout",
     "output_type": "stream",
     "text": [
      "product_details [(744,)] \n",
      "    prod_id prod_desc prod_long_desc theme_name\n",
      "0      630      blah       blahblah    Classic\n",
      "1     2304      blah       blahblah     DUPLO®\n",
      "2     7280      blah       blahblah       City\n",
      "3     7281      blah       blahblah       City\n",
      "4     7499      blah       blahblah       City \n",
      "\n",
      "\n",
      "product_info [(744,)] \n",
      "    prod_id  ages  piece_count                         set_name\n",
      "0      630    4+            1                  Brick Separator\n",
      "1     2304  1½-5            1     LEGO® DUPLO® Green Baseplate\n",
      "2     7280  5-12            2      Straight & Crossroad Plates\n",
      "3     7281  5-12            2  T-Junction & Curved Road Plates\n",
      "4     7499  5-12           24     Flexible and Straight Tracks \n",
      "\n",
      "\n",
      "product_pricing [(10870,)] \n",
      "    prod_id country list_price\n",
      "0    75823      US      29.99\n",
      "1    75822      US      19.99\n",
      "2    75821      US      12.99\n",
      "3    21030      US      99.99\n",
      "4    21035      US      79.99 \n",
      "\n",
      "\n",
      "product_reviews [(744,)] \n",
      "    prod_id  num_reviews  play_star_rating review_difficulty  star_rating  \\\n",
      "0      630          180               4.0         Very Easy          4.8   \n",
      "1     2304           15               4.4              Easy          4.0   \n",
      "2     7280           85               4.1         Very Easy          3.5   \n",
      "3     7281           40               4.1         Very Easy          3.9   \n",
      "4     7499           89               2.9              Easy          2.5   \n",
      "\n",
      "   val_star_rating  \n",
      "0              4.6  \n",
      "1              3.3  \n",
      "2              2.3  \n",
      "3              2.8  \n",
      "4              2.2   \n",
      "\n",
      "\n"
     ]
    }
   ],
   "source": [
    "\n",
    "for item in response:\n",
    "    table = item[0]\n",
    "    length = cur.execute(\"\"\"SELECT count(*) from {};\"\"\".format(table)).fetchall()\n",
    "    results = cur.execute(\"\"\"SELECT * from {} limit 5\"\"\".format(table)).fetchall()\n",
    "    df = pd.DataFrame(results)\n",
    "    df.columns = [x[0] for x in cur.description]\n",
    "    print(table, length, '\\n', df, '\\n\\n')"
   ]
  },
  {
   "cell_type": "code",
   "execution_count": 31,
   "metadata": {},
   "outputs": [
    {
     "data": {
      "text/html": [
       "<div>\n",
       "<style scoped>\n",
       "    .dataframe tbody tr th:only-of-type {\n",
       "        vertical-align: middle;\n",
       "    }\n",
       "\n",
       "    .dataframe tbody tr th {\n",
       "        vertical-align: top;\n",
       "    }\n",
       "\n",
       "    .dataframe thead th {\n",
       "        text-align: right;\n",
       "    }\n",
       "</style>\n",
       "<table border=\"1\" class=\"dataframe\">\n",
       "  <thead>\n",
       "    <tr style=\"text-align: right;\">\n",
       "      <th></th>\n",
       "      <th>prod_id</th>\n",
       "      <th>num_reviews</th>\n",
       "      <th>play_star_rating</th>\n",
       "      <th>review_difficulty</th>\n",
       "      <th>star_rating</th>\n",
       "      <th>val_star_rating</th>\n",
       "    </tr>\n",
       "  </thead>\n",
       "  <tbody>\n",
       "    <tr>\n",
       "      <td>0</td>\n",
       "      <td>630</td>\n",
       "      <td>180</td>\n",
       "      <td>4.0</td>\n",
       "      <td>Very Easy</td>\n",
       "      <td>4.8</td>\n",
       "      <td>4.6</td>\n",
       "    </tr>\n",
       "    <tr>\n",
       "      <td>1</td>\n",
       "      <td>2304</td>\n",
       "      <td>15</td>\n",
       "      <td>4.4</td>\n",
       "      <td>Easy</td>\n",
       "      <td>4.0</td>\n",
       "      <td>3.3</td>\n",
       "    </tr>\n",
       "    <tr>\n",
       "      <td>2</td>\n",
       "      <td>7280</td>\n",
       "      <td>85</td>\n",
       "      <td>4.1</td>\n",
       "      <td>Very Easy</td>\n",
       "      <td>3.5</td>\n",
       "      <td>2.3</td>\n",
       "    </tr>\n",
       "    <tr>\n",
       "      <td>3</td>\n",
       "      <td>7281</td>\n",
       "      <td>40</td>\n",
       "      <td>4.1</td>\n",
       "      <td>Very Easy</td>\n",
       "      <td>3.9</td>\n",
       "      <td>2.8</td>\n",
       "    </tr>\n",
       "    <tr>\n",
       "      <td>4</td>\n",
       "      <td>7499</td>\n",
       "      <td>89</td>\n",
       "      <td>2.9</td>\n",
       "      <td>Easy</td>\n",
       "      <td>2.5</td>\n",
       "      <td>2.2</td>\n",
       "    </tr>\n",
       "  </tbody>\n",
       "</table>\n",
       "</div>"
      ],
      "text/plain": [
       "   prod_id  num_reviews  play_star_rating review_difficulty  star_rating  \\\n",
       "0      630          180               4.0         Very Easy          4.8   \n",
       "1     2304           15               4.4              Easy          4.0   \n",
       "2     7280           85               4.1         Very Easy          3.5   \n",
       "3     7281           40               4.1         Very Easy          3.9   \n",
       "4     7499           89               2.9              Easy          2.5   \n",
       "\n",
       "   val_star_rating  \n",
       "0              4.6  \n",
       "1              3.3  \n",
       "2              2.3  \n",
       "3              2.8  \n",
       "4              2.2  "
      ]
     },
     "execution_count": 31,
     "metadata": {},
     "output_type": "execute_result"
    }
   ],
   "source": [
    "df.head()"
   ]
  },
  {
   "cell_type": "markdown",
   "metadata": {},
   "source": [
    "## Summary\n",
    "Nice work! You're working more and more independently through the workflow and ensuring data integrity! In this lab, you successfully executed an ETL process to merge different tables!"
   ]
  },
  {
   "cell_type": "code",
   "execution_count": null,
   "metadata": {},
   "outputs": [],
   "source": []
  }
 ],
 "metadata": {
  "kernelspec": {
   "display_name": "Python 3",
   "language": "python",
   "name": "python3"
  },
  "language_info": {
   "codemirror_mode": {
    "name": "ipython",
    "version": 3
   },
   "file_extension": ".py",
   "mimetype": "text/x-python",
   "name": "python",
   "nbconvert_exporter": "python",
   "pygments_lexer": "ipython3",
   "version": "3.6.9"
  },
  "toc": {
   "base_numbering": 1,
   "nav_menu": {},
   "number_sections": true,
   "sideBar": true,
   "skip_h1_title": false,
   "title_cell": "Table of Contents",
   "title_sidebar": "Contents",
   "toc_cell": false,
   "toc_position": {},
   "toc_section_display": true,
   "toc_window_display": false
  },
  "varInspector": {
   "cols": {
    "lenName": 16,
    "lenType": 16,
    "lenVar": 40
   },
   "kernels_config": {
    "python": {
     "delete_cmd_postfix": "",
     "delete_cmd_prefix": "del ",
     "library": "var_list.py",
     "varRefreshCmd": "print(var_dic_list())"
    },
    "r": {
     "delete_cmd_postfix": ") ",
     "delete_cmd_prefix": "rm(",
     "library": "var_list.r",
     "varRefreshCmd": "cat(var_dic_list()) "
    }
   },
   "types_to_exclude": [
    "module",
    "function",
    "builtin_function_or_method",
    "instance",
    "_Feature"
   ],
   "window_display": false
  }
 },
 "nbformat": 4,
 "nbformat_minor": 2
}
